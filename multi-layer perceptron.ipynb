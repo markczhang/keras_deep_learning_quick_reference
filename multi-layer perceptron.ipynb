{
 "cells": [
  {
   "cell_type": "markdown",
   "metadata": {},
   "source": [
    "## Import libraries"
   ]
  },
  {
   "cell_type": "code",
   "execution_count": null,
   "metadata": {},
   "outputs": [],
   "source": [
    "import numpy as np\n",
    "from keras.datasets import mnist\n",
    "from keras.models import Sequential\n",
    "from keras.layers.core import Dense, Activation, Dropout\n",
    "from keras.optimizers import SGD, RMSprop, Adam\n",
    "from keras.utils import np_utils\n",
    "from keras import regularizers\n",
    "\n",
    "import matplotlib.pyplot as plt\n",
    "import seaborn as sns\n",
    "import pandas as pd\n",
    "\n",
    "# Set seed for reproducibility\n",
    "np.random.seed(123)"
   ]
  },
  {
   "cell_type": "markdown",
   "metadata": {},
   "source": [
    "## Define hyper-parameters"
   ]
  },
  {
   "cell_type": "code",
   "execution_count": null,
   "metadata": {},
   "outputs": [],
   "source": [
    "# ======= Hyper-parameters that can be tunned for model performance =======\n",
    "\n",
    "# Number of times the model is exposed to the training set. At each iteration, the optimizer tries to adjust the weights\n",
    "# so that the objective function is minimized.\n",
    "NB_EPOCH = 250\n",
    "# Number of training instances observed before the optimizer performs a weight update\n",
    "BATCH_SIZE = 128\n",
    "OPTIMIZER = Adam(learning_rate=0.001)  #SGD(), RMSprop()\n",
    "N_HIDDEN = 512\n",
    "DROPOUT = 0.3\n",
    "\n",
    "# ======= \"Parameters that won't affect model performance\" =======\n",
    "\n",
    "VERBOSE = 1 # Whether to print out training progress\n",
    "NB_CLASSES = 10 # Number of classes to predict\n",
    "VALIDATION_SPLIT=0.2 # Train/validate split ratio"
   ]
  },
  {
   "cell_type": "markdown",
   "metadata": {},
   "source": [
    "## Pre-process data"
   ]
  },
  {
   "cell_type": "code",
   "execution_count": null,
   "metadata": {},
   "outputs": [],
   "source": [
    "# Load the train/test sets\n",
    "(X_train, y_train), (X_test, y_test) = mnist.load_data()\n",
    "\n",
    "# Calculate vector size for each image\n",
    "RESHAPED = X_train.shape[1] * X_train.shape[2]\n",
    "\n",
    "# Flatten each image to a vector\n",
    "X_train = X_train.reshape(X_train.shape[0], RESHAPED)\n",
    "X_test = X_test.reshape(X_test.shape[0], RESHAPED)\n",
    "X_train = X_train.astype('float32')\n",
    "X_test = X_test.astype('float32')\n",
    "\n",
    "# Convert class vectors to binary class matrices\n",
    "Y_train = np_utils.to_categorical(y_train, NB_CLASSES)\n",
    "Y_test = np_utils.to_categorical(y_test, NB_CLASSES)\n",
    "\n",
    "# Normalize each image to gray scale\n",
    "X_train /= 255\n",
    "X_test /= 255\n",
    "\n",
    "# The column size/number of features should correspond to the model input size\n",
    "print('training set shape: ', X_train.shape)\n",
    "print('test set shape: ', X_test.shape)"
   ]
  },
  {
   "cell_type": "markdown",
   "metadata": {},
   "source": [
    "## Define model"
   ]
  },
  {
   "cell_type": "code",
   "execution_count": null,
   "metadata": {},
   "outputs": [],
   "source": [
    "model = Sequential()\n",
    "\n",
    "# 3 layers neuro net\n",
    "model.add(Dense(N_HIDDEN, input_dim=RESHAPED, kernel_regularizer=regularizers.l2(l=0.001)))\n",
    "model.add(Activation('relu'))\n",
    "model.add(Dropout(DROPOUT))  # Dropout after input layer\n",
    "model.add(Dense(N_HIDDEN))\n",
    "model.add(Activation('relu'))\n",
    "model.add(Dropout(DROPOUT))  # Dropout after 1st hidden layer\n",
    "model.add(Dense(NB_CLASSES))\n",
    "model.add(Activation('softmax'))\n",
    "\n",
    "# Compile model once it is defined\n",
    "# 'Loss' is the metrics used by the objective function during the gradient descent process; 'metrics' is the metrics used\n",
    "# for evaluation purpose\n",
    "model.compile(loss='categorical_crossentropy', optimizer=OPTIMIZER, metrics=['accuracy'])\n",
    "\n",
    "model.summary()"
   ]
  },
  {
   "cell_type": "markdown",
   "metadata": {},
   "source": [
    "## Fit the model with training set data"
   ]
  },
  {
   "cell_type": "code",
   "execution_count": null,
   "metadata": {
    "scrolled": true
   },
   "outputs": [],
   "source": [
    "history = model.fit(X_train,\n",
    "                    Y_train,\n",
    "                    batch_size=BATCH_SIZE,\n",
    "                    epochs=NB_EPOCH,\n",
    "                    verbose=VERBOSE,\n",
    "                    validation_split=VALIDATION_SPLIT)"
   ]
  },
  {
   "cell_type": "markdown",
   "metadata": {},
   "source": [
    "## Evaluate the model with test set"
   ]
  },
  {
   "cell_type": "code",
   "execution_count": null,
   "metadata": {},
   "outputs": [],
   "source": [
    "def evaluation(model_obj, X_test, Y_test):\n",
    "    score = model_obj.evaluate(X_test, Y_test, verbose=VERBOSE)\n",
    "    print('Test score: ', score[0])\n",
    "    print('test accuracy: ', score[1])\n",
    "    return score[1]\n",
    "\n",
    "Adam_acc_lr_0001_neuron512_l2001 = evaluation(model, X_test, Y_test)"
   ]
  },
  {
   "cell_type": "markdown",
   "metadata": {},
   "source": [
    "## Accuracy score for 3 different types of optimizer"
   ]
  },
  {
   "cell_type": "code",
   "execution_count": null,
   "metadata": {},
   "outputs": [],
   "source": [
    "print('SGD Accuracy: ', SGD_acc)\n",
    "print('RMSprop Accuracy: ', RMSprop_acc)\n",
    "print('Adam Accuracy: ', Adam_acc)\n",
    "print('Adam lr0001 neurn512: ', Adam_acc_lr_0001_neuron512)\n",
    "print('Adam lr0001 neurn512 l20001: ', Adam_acc_lr_0001_neuron512_l2001)"
   ]
  }
 ],
 "metadata": {
  "kernelspec": {
   "display_name": "Python 3",
   "language": "python",
   "name": "python3"
  },
  "language_info": {
   "codemirror_mode": {
    "name": "ipython",
    "version": 3
   },
   "file_extension": ".py",
   "mimetype": "text/x-python",
   "name": "python",
   "nbconvert_exporter": "python",
   "pygments_lexer": "ipython3",
   "version": "3.8.3"
  }
 },
 "nbformat": 4,
 "nbformat_minor": 4
}
